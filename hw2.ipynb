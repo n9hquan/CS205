{
 "cells": [
  {
   "cell_type": "code",
   "execution_count": 1,
   "metadata": {},
   "outputs": [],
   "source": [
    "file = r\"C:\\Users\\narum\\Downloads\\Covid19_tweets - 100 tweets.csv\""
   ]
  },
  {
   "cell_type": "code",
   "execution_count": 2,
   "metadata": {},
   "outputs": [],
   "source": [
    "import pandas as pd\n",
    "data = pd.read_csv(file)"
   ]
  },
  {
   "cell_type": "code",
   "execution_count": 3,
   "metadata": {},
   "outputs": [],
   "source": [
    "# data"
   ]
  },
  {
   "cell_type": "code",
   "execution_count": 4,
   "metadata": {},
   "outputs": [
    {
     "data": {
      "text/plain": [
       "count    1.000000e+02\n",
       "mean     5.758150e+04\n",
       "std      2.348400e+05\n",
       "min      0.000000e+00\n",
       "25%      2.270000e+02\n",
       "50%      8.905000e+02\n",
       "75%      7.002000e+03\n",
       "max      1.695520e+06\n",
       "Name: user_followers, dtype: float64"
      ]
     },
     "execution_count": 4,
     "metadata": {},
     "output_type": "execute_result"
    }
   ],
   "source": [
    "data['user_followers'].describe()"
   ]
  },
  {
   "cell_type": "code",
   "execution_count": 5,
   "metadata": {},
   "outputs": [
    {
     "data": {
      "text/plain": [
       "513.5"
      ]
     },
     "execution_count": 5,
     "metadata": {},
     "output_type": "execute_result"
    }
   ],
   "source": [
    "# data['user_friends'].describe()\n",
    "data['user_friends'].median()"
   ]
  },
  {
   "cell_type": "code",
   "execution_count": 6,
   "metadata": {},
   "outputs": [
    {
     "data": {
      "text/plain": [
       "1487.5"
      ]
     },
     "execution_count": 6,
     "metadata": {},
     "output_type": "execute_result"
    }
   ],
   "source": [
    "data['user_favourites'].describe()\n",
    "data['user_favourites'].median()"
   ]
  },
  {
   "cell_type": "code",
   "execution_count": 7,
   "metadata": {},
   "outputs": [
    {
     "name": "stdout",
     "output_type": "stream",
     "text": [
      "['PlayYourPart', 'Covid19', 'InThisTogether']\n",
      "[\n",
      "PlayYourPart\n",
      "\n",
      " \n",
      "Covid19\n",
      "\n",
      " \n",
      "InThisTogether\n",
      "]\n"
     ]
    }
   ],
   "source": [
    "import re\n",
    "new_1 = data['hashtags'][98]\n",
    "new = re.split(r\"[',']\", new_1)\n",
    "print(new_1)\n",
    "for i in range(len(new)):\n",
    "    print(new[i])"
   ]
  },
  {
   "cell_type": "code",
   "execution_count": 8,
   "metadata": {},
   "outputs": [
    {
     "data": {
      "text/plain": [
       "hashtags\n",
       "['COVID19']                                                                                    22\n",
       "['TamilNadu', 'COVID19']                                                                        3\n",
       "['Covid19']                                                                                     3\n",
       "['COVID19', 'Recruiting']                                                                       1\n",
       "['covid19', 'covidPositive']                                                                    1\n",
       "['covid19']                                                                                     1\n",
       "['CoronaVirus']                                                                                 1\n",
       "['IndiaFightsCorona']                                                                           1\n",
       "['COVID19', 'Coronavirus']                                                                      1\n",
       "['obesity', 'زواج_راكان_الحربي', 'carryminati', 'my200vsbutch200']                              1\n",
       "['Fergusons', 'DurbanJuly', 'alreadyvideo', 'COVID19', 'WiseUp']                                1\n",
       "['etsy', 'epiconetsy', 'masksforsale']                                                          1\n",
       "['MumbaiPainters']                                                                              1\n",
       "['Industry']                                                                                    1\n",
       "['SaturdayVibes']                                                                               1\n",
       "['political', 'Covid19']                                                                        1\n",
       "['clean']                                                                                       1\n",
       "['salescoach', 'BusinessCoach', 'salesforce']                                                   1\n",
       "['NSTworld', 'NationalDayRally', 'NDR']                                                         1\n",
       "['AmitShah', 'COVID19', 'Coronavirus']                                                          1\n",
       "['DurbanJuly', 'COVID19']                                                                       1\n",
       "['alreadyvideo', 'COVID19', 'HurricaneHanna']                                                   1\n",
       "['RutoSwindlingGEMA', 'COVID19']                                                                1\n",
       "['coronavirus', 'covid19']                                                                      1\n",
       "['Delhi', 'COVID19']                                                                            1\n",
       "['Kolar', 'Blood', 'COVID19']                                                                   1\n",
       "['HurricaneHanna', 'COVID19']                                                                   1\n",
       "['logo', 'graphicdesigner', 'logodesign', 'logodesinger', 'icon', 'minimalist', 'Abstract']     1\n",
       "['Covid19', 'keepsocialdistance']                                                               1\n",
       "['COVID19', 'TamilNadu', 'chennai']                                                             1\n",
       "['COVID19', 'homework']                                                                         1\n",
       "['light']                                                                                       1\n",
       "['WASH', 'COVID19']                                                                             1\n",
       "['BosniaandHerzegovina']                                                                        1\n",
       "['CoronaVirusUpdates', 'COVID19']                                                               1\n",
       "['TNCoronaUpdate', 'TN', 'COVID19']                                                             1\n",
       "['FEMA', 'PuertoRico', 'COVID19']                                                               1\n",
       "['Covid19', 'Vishal']                                                                           1\n",
       "['covid19', 'Africa']                                                                           1\n",
       "['COVID19', 'climate']                                                                          1\n",
       "['BorisJohnson', '5COBRA', 'Five']                                                              1\n",
       "['PlayYourPart', 'COVID19']                                                                     1\n",
       "['PlayYourPart', 'Covid19', 'InThisTogether']                                                   1\n",
       "Name: count, dtype: int64"
      ]
     },
     "execution_count": 8,
     "metadata": {},
     "output_type": "execute_result"
    }
   ],
   "source": [
    "data['hashtags'].value_counts()"
   ]
  },
  {
   "cell_type": "code",
   "execution_count": 34,
   "metadata": {},
   "outputs": [
    {
     "data": {
      "text/plain": [
       "source\n",
       "Twitter Web App            29\n",
       "Twitter for Android        28\n",
       "Twitter for iPhone         20\n",
       "TweetCaster for Android     7\n",
       "TweetDeck                   6\n",
       "Twitter for iPad            3\n",
       "Hootsuite Inc.              2\n",
       "Buffer                      1\n",
       "Africa Newsroom             1\n",
       "Blood Donors India          1\n",
       "Alexander Higgins           1\n",
       "IFTTT                       1\n",
       "Name: count, dtype: int64"
      ]
     },
     "execution_count": 34,
     "metadata": {},
     "output_type": "execute_result"
    }
   ],
   "source": [
    "data['source'].value_counts()"
   ]
  }
 ],
 "metadata": {
  "kernelspec": {
   "display_name": "Python 3",
   "language": "python",
   "name": "python3"
  },
  "language_info": {
   "codemirror_mode": {
    "name": "ipython",
    "version": 3
   },
   "file_extension": ".py",
   "mimetype": "text/x-python",
   "name": "python",
   "nbconvert_exporter": "python",
   "pygments_lexer": "ipython3",
   "version": "3.11.1"
  }
 },
 "nbformat": 4,
 "nbformat_minor": 2
}
