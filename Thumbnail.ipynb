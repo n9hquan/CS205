{
 "cells": [
  {
   "cell_type": "code",
   "execution_count": 25,
   "metadata": {},
   "outputs": [],
   "source": [
    "import pandas as pd\n",
    "import random\n",
    "import statistics as st\n",
    "import matplotlib.pyplot as plt\n",
    "import random"
   ]
  },
  {
   "cell_type": "code",
   "execution_count": 26,
   "metadata": {},
   "outputs": [],
   "source": [
    "Boki = pd.read_excel(r\"D:\\Fulbright\\Year2\\CSM\\Eat with Boki.xlsx\")\n",
    "Gongsam = pd.read_excel(r\"D:\\Fulbright\\Year2\\CSM\\Gongsam table.xlsx\")\n",
    "Hamzy = pd.read_excel(r\"D:\\Fulbright\\Year2\\CSM\\Hamzy.xlsx\")\n",
    "Hongyu = pd.read_excel(r\"D:\\Fulbright\\Year2\\CSM\\Hongyu ASMR.xlsx\")\n",
    "Jane = pd.read_excel(r\"D:\\Fulbright\\Year2\\CSM\\Jane_asmr.xlsx\")\n",
    "SASASMR = pd.read_excel(r\"D:\\Fulbright\\Year2\\CSM\\SASASMR.xlsx\")\n",
    "Ssoyoung = pd.read_excel(r\"D:\\Fulbright\\Year2\\CSM\\Ssoyoung.xlsx\")\n",
    "Sulgiyang = pd.read_excel(r\"D:\\Fulbright\\Year2\\CSM\\Sulgiyang.xlsx\")\n",
    "tanboykun = pd.read_excel(r\"D:\\Fulbright\\Year2\\CSM\\tanboykun.xlsx\")\n",
    "ZachChoi = pd.read_excel(r\"D:\\Fulbright\\Year2\\CSM\\Zach Choi.xlsx\")\n"
   ]
  },
  {
   "cell_type": "code",
   "execution_count": 27,
   "metadata": {},
   "outputs": [],
   "source": [
    "Boki_select = Boki[['index', 'thumbnails']].sample(frac = 1)\n",
    "Gongsam_select = Gongsam[['index', 'thumbnails']].sample(frac = 1)\n",
    "Hamzy_select = Hamzy[['index', 'thumbnails']].sample(frac = 1)\n",
    "Hongyu_select = Hongyu[['index', 'thumbnails']].sample(frac = 1)\n",
    "Jane_select = Jane[['index', 'thumbnails']].sample(frac = 1)\n",
    "SASASMR_select = SASASMR[['index', 'thumbnails']].sample(frac = 1)\n",
    "Ssoyoung_select = Ssoyoung[['index', 'thumbnails']].sample(frac = 1)\n",
    "Sulgiyang_select = Sulgiyang[['index', 'thumbnails']].sample(frac = 1)\n",
    "tanboykun_select = tanboykun[['index', 'thumbnails']].sample(frac = 1)\n",
    "ZachChoi_select = ZachChoi[['index', 'thumbnails']].sample(frac = 1)"
   ]
  },
  {
   "cell_type": "markdown",
   "metadata": {},
   "source": [
    "**NOTE: 20 videos from each channel below have been randomly shuffled, we just need to pick 2 in order for each channel for the survey**"
   ]
  },
  {
   "cell_type": "code",
   "execution_count": 28,
   "metadata": {},
   "outputs": [
    {
     "name": "stdout",
     "output_type": "stream",
     "text": [
      "    index                                         thumbnails\n",
      "7     706  {'default': {'url': 'https://i.ytimg.com/vi/Yr...\n",
      "1     156  {'default': {'url': 'https://i.ytimg.com/vi/eI...\n",
      "14    478  {'default': {'url': 'https://i.ytimg.com/vi/s0...\n",
      "16    594  {'default': {'url': 'https://i.ytimg.com/vi/lE...\n",
      "15    441  {'default': {'url': 'https://i.ytimg.com/vi/mb...\n",
      "6     360  {'default': {'url': 'https://i.ytimg.com/vi/SD...\n",
      "4     297  {'default': {'url': 'https://i.ytimg.com/vi/hx...\n",
      "9     105  {'default': {'url': 'https://i.ytimg.com/vi/B1...\n",
      "13    179  {'default': {'url': 'https://i.ytimg.com/vi/WE...\n",
      "19    419  {'default': {'url': 'https://i.ytimg.com/vi/KL...\n",
      "2      25  {'default': {'url': 'https://i.ytimg.com/vi/mD...\n",
      "8     356  {'default': {'url': 'https://i.ytimg.com/vi/L9...\n",
      "3     498  {'default': {'url': 'https://i.ytimg.com/vi/vx...\n",
      "17    644  {'default': {'url': 'https://i.ytimg.com/vi/QA...\n",
      "11    357  {'default': {'url': 'https://i.ytimg.com/vi/MR...\n",
      "0     650  {'default': {'url': 'https://i.ytimg.com/vi/n7...\n",
      "18    154  {'default': {'url': 'https://i.ytimg.com/vi/MD...\n",
      "12    517  {'default': {'url': 'https://i.ytimg.com/vi/Ha...\n",
      "10    778  {'default': {'url': 'https://i.ytimg.com/vi/iH...\n",
      "5     638  {'default': {'url': 'https://i.ytimg.com/vi/qL...\n"
     ]
    }
   ],
   "source": [
    "print(Boki_select)"
   ]
  },
  {
   "cell_type": "code",
   "execution_count": 29,
   "metadata": {},
   "outputs": [
    {
     "name": "stdout",
     "output_type": "stream",
     "text": [
      "    index                                         thumbnails\n",
      "0     224  {'default': {'url': 'https://i.ytimg.com/vi/8P...\n",
      "9     259  {'default': {'url': 'https://i.ytimg.com/vi/Z1...\n",
      "19    645  {'default': {'url': 'https://i.ytimg.com/vi/x2...\n",
      "4     560  {'default': {'url': 'https://i.ytimg.com/vi/-S...\n",
      "10    255  {'default': {'url': 'https://i.ytimg.com/vi/kQ...\n",
      "3     279  {'default': {'url': 'https://i.ytimg.com/vi/q3...\n",
      "15    195  {'default': {'url': 'https://i.ytimg.com/vi/rG...\n",
      "13    208  {'default': {'url': 'https://i.ytimg.com/vi/9I...\n",
      "7     154  {'default': {'url': 'https://i.ytimg.com/vi/MD...\n",
      "5     354  {'default': {'url': 'https://i.ytimg.com/vi/nl...\n",
      "8     305  {'default': {'url': 'https://i.ytimg.com/vi/CH...\n",
      "14    162  {'default': {'url': 'https://i.ytimg.com/vi/oo...\n",
      "12    217  {'default': {'url': 'https://i.ytimg.com/vi/NW...\n",
      "16    551  {'default': {'url': 'https://i.ytimg.com/vi/yq...\n",
      "11    534  {'default': {'url': 'https://i.ytimg.com/vi/0F...\n",
      "1     371  {'default': {'url': 'https://i.ytimg.com/vi/6p...\n",
      "18    467  {'default': {'url': 'https://i.ytimg.com/vi/TZ...\n",
      "17    678  {'default': {'url': 'https://i.ytimg.com/vi/H2...\n",
      "6     617  {'default': {'url': 'https://i.ytimg.com/vi/HC...\n",
      "2     153  {'default': {'url': 'https://i.ytimg.com/vi/aX...\n"
     ]
    }
   ],
   "source": [
    "print(Gongsam_select)"
   ]
  },
  {
   "cell_type": "code",
   "execution_count": 30,
   "metadata": {},
   "outputs": [
    {
     "name": "stdout",
     "output_type": "stream",
     "text": [
      "    index                                         thumbnails\n",
      "9     160  {'default': {'url': 'https://i.ytimg.com/vi/JZ...\n",
      "14    586  {'default': {'url': 'https://i.ytimg.com/vi/p0...\n",
      "2     564  {'default': {'url': 'https://i.ytimg.com/vi/m2...\n",
      "6     364  {'default': {'url': 'https://i.ytimg.com/vi/Ri...\n",
      "17    690  {'default': {'url': 'https://i.ytimg.com/vi/Sy...\n",
      "8     314  {'default': {'url': 'https://i.ytimg.com/vi/7i...\n",
      "16    275  {'default': {'url': 'https://i.ytimg.com/vi/Um...\n",
      "5     649  {'default': {'url': 'https://i.ytimg.com/vi/6B...\n",
      "7     594  {'default': {'url': 'https://i.ytimg.com/vi/lE...\n",
      "12    248  {'default': {'url': 'https://i.ytimg.com/vi/k1...\n",
      "0     142  {'default': {'url': 'https://i.ytimg.com/vi/oO...\n",
      "11    736  {'default': {'url': 'https://i.ytimg.com/vi/jo...\n",
      "4     757  {'default': {'url': 'https://i.ytimg.com/vi/i3...\n",
      "18    333  {'default': {'url': 'https://i.ytimg.com/vi/ea...\n",
      "1     188  {'default': {'url': 'https://i.ytimg.com/vi/Ag...\n",
      "10    731  {'default': {'url': 'https://i.ytimg.com/vi/yb...\n",
      "19    518  {'default': {'url': 'https://i.ytimg.com/vi/8p...\n",
      "3     165  {'default': {'url': 'https://i.ytimg.com/vi/Ju...\n",
      "13    622  {'default': {'url': 'https://i.ytimg.com/vi/xC...\n",
      "15    210  {'default': {'url': 'https://i.ytimg.com/vi/IX...\n"
     ]
    }
   ],
   "source": [
    "print(Hamzy_select)"
   ]
  },
  {
   "cell_type": "code",
   "execution_count": 31,
   "metadata": {},
   "outputs": [
    {
     "name": "stdout",
     "output_type": "stream",
     "text": [
      "    index                                         thumbnails\n",
      "6     127  {'default': {'url': 'https://i.ytimg.com/vi/Tq...\n",
      "19    450  {'default': {'url': 'https://i.ytimg.com/vi/wc...\n",
      "12    812  {'default': {'url': 'https://i.ytimg.com/vi/Tn...\n",
      "2     381  {'default': {'url': 'https://i.ytimg.com/vi/W_...\n",
      "8     513  {'default': {'url': 'https://i.ytimg.com/vi/SA...\n",
      "11    605  {'default': {'url': 'https://i.ytimg.com/vi/U0...\n",
      "0     326  {'default': {'url': 'https://i.ytimg.com/vi/eQ...\n",
      "5      17  {'default': {'url': 'https://i.ytimg.com/vi/I7...\n",
      "16    696  {'default': {'url': 'https://i.ytimg.com/vi/4C...\n",
      "17    524  {'default': {'url': 'https://i.ytimg.com/vi/m1...\n",
      "13    591  {'default': {'url': 'https://i.ytimg.com/vi/1H...\n",
      "1     487  {'default': {'url': 'https://i.ytimg.com/vi/7_...\n",
      "3     392  {'default': {'url': 'https://i.ytimg.com/vi/uB...\n",
      "9     178  {'default': {'url': 'https://i.ytimg.com/vi/EY...\n",
      "15    185  {'default': {'url': 'https://i.ytimg.com/vi/nS...\n",
      "14    759  {'default': {'url': 'https://i.ytimg.com/vi/W6...\n",
      "7     431  {'default': {'url': 'https://i.ytimg.com/vi/O3...\n",
      "4     580  {'default': {'url': 'https://i.ytimg.com/vi/4g...\n",
      "18    536  {'default': {'url': 'https://i.ytimg.com/vi/TC...\n",
      "10    672  {'default': {'url': 'https://i.ytimg.com/vi/j0...\n"
     ]
    }
   ],
   "source": [
    "print(Hongyu_select)"
   ]
  },
  {
   "cell_type": "code",
   "execution_count": 32,
   "metadata": {},
   "outputs": [
    {
     "name": "stdout",
     "output_type": "stream",
     "text": [
      "    index                                         thumbnails\n",
      "1     468  {'default': {'url': 'https://i.ytimg.com/vi/ak...\n",
      "17    253  {'default': {'url': 'https://i.ytimg.com/vi/eE...\n",
      "14    572  {'default': {'url': 'https://i.ytimg.com/vi/-T...\n",
      "13    385  {'default': {'url': 'https://i.ytimg.com/vi/kO...\n",
      "6     742  {'default': {'url': 'https://i.ytimg.com/vi/bI...\n",
      "11    340  {'default': {'url': 'https://i.ytimg.com/vi/UY...\n",
      "9     687  {'default': {'url': 'https://i.ytimg.com/vi/qt...\n",
      "5     281  {'default': {'url': 'https://i.ytimg.com/vi/AO...\n",
      "15    396  {'default': {'url': 'https://i.ytimg.com/vi/-s...\n",
      "10    816  {'default': {'url': 'https://i.ytimg.com/vi/Bc...\n",
      "19    415  {'default': {'url': 'https://i.ytimg.com/vi/6B...\n",
      "3     492  {'default': {'url': 'https://i.ytimg.com/vi/3v...\n",
      "4     761  {'default': {'url': 'https://i.ytimg.com/vi/9p...\n",
      "16    376  {'default': {'url': 'https://i.ytimg.com/vi/bt...\n",
      "0      10  {'default': {'url': 'https://i.ytimg.com/vi/3a...\n",
      "8     401  {'default': {'url': 'https://i.ytimg.com/vi/Ig...\n",
      "2     682  {'default': {'url': 'https://i.ytimg.com/vi/g5...\n",
      "18    477  {'default': {'url': 'https://i.ytimg.com/vi/zN...\n",
      "12    123  {'default': {'url': 'https://i.ytimg.com/vi/Qy...\n",
      "7     124  {'default': {'url': 'https://i.ytimg.com/vi/g7...\n"
     ]
    }
   ],
   "source": [
    "print(Jane_select)"
   ]
  },
  {
   "cell_type": "code",
   "execution_count": 33,
   "metadata": {},
   "outputs": [
    {
     "name": "stdout",
     "output_type": "stream",
     "text": [
      "    index                                         thumbnails\n",
      "1     221  {'default': {'url': 'https://i.ytimg.com/vi/rH...\n",
      "3     274  {'default': {'url': 'https://i.ytimg.com/vi/uR...\n",
      "4     210  {'default': {'url': 'https://i.ytimg.com/vi/IX...\n",
      "17    242  {'default': {'url': 'https://i.ytimg.com/vi/Yc...\n",
      "12    748  {'default': {'url': 'https://i.ytimg.com/vi/l-...\n",
      "16     92  {'default': {'url': 'https://i.ytimg.com/vi/ST...\n",
      "19    251  {'default': {'url': 'https://i.ytimg.com/vi/tD...\n",
      "5     557  {'default': {'url': 'https://i.ytimg.com/vi/26...\n",
      "7     282  {'default': {'url': 'https://i.ytimg.com/vi/e7...\n",
      "9     624  {'default': {'url': 'https://i.ytimg.com/vi/sR...\n",
      "10    676  {'default': {'url': 'https://i.ytimg.com/vi/zF...\n",
      "8     294  {'default': {'url': 'https://i.ytimg.com/vi/1l...\n",
      "15    178  {'default': {'url': 'https://i.ytimg.com/vi/EY...\n",
      "11    127  {'default': {'url': 'https://i.ytimg.com/vi/Tq...\n",
      "13     95  {'default': {'url': 'https://i.ytimg.com/vi/Jn...\n",
      "6     530  {'default': {'url': 'https://i.ytimg.com/vi/Y0...\n",
      "2     533  {'default': {'url': 'https://i.ytimg.com/vi/x3...\n",
      "14    253  {'default': {'url': 'https://i.ytimg.com/vi/eE...\n",
      "0     196  {'default': {'url': 'https://i.ytimg.com/vi/va...\n",
      "18    310  {'default': {'url': 'https://i.ytimg.com/vi/ye...\n"
     ]
    }
   ],
   "source": [
    "print(SASASMR_select)"
   ]
  },
  {
   "cell_type": "code",
   "execution_count": 34,
   "metadata": {},
   "outputs": [
    {
     "name": "stdout",
     "output_type": "stream",
     "text": [
      "    index                                         thumbnails\n",
      "4     595  {'default': {'url': 'https://i.ytimg.com/vi/C8...\n",
      "10    496  {'default': {'url': 'https://i.ytimg.com/vi/mm...\n",
      "8     177  {'default': {'url': 'https://i.ytimg.com/vi/w9...\n",
      "0     245  {'default': {'url': 'https://i.ytimg.com/vi/sR...\n",
      "1     782  {'default': {'url': 'https://i.ytimg.com/vi/Fm...\n",
      "19     97  {'default': {'url': 'https://i.ytimg.com/vi/rX...\n",
      "12    569  {'default': {'url': 'https://i.ytimg.com/vi/b4...\n",
      "6     599  {'default': {'url': 'https://i.ytimg.com/vi/D9...\n",
      "18    410  {'default': {'url': 'https://i.ytimg.com/vi/Rq...\n",
      "13    312  {'default': {'url': 'https://i.ytimg.com/vi/qG...\n",
      "5     271  {'default': {'url': 'https://i.ytimg.com/vi/M1...\n",
      "15    230  {'default': {'url': 'https://i.ytimg.com/vi/Sj...\n",
      "14    224  {'default': {'url': 'https://i.ytimg.com/vi/8P...\n",
      "2     427  {'default': {'url': 'https://i.ytimg.com/vi/1G...\n",
      "9     732  {'default': {'url': 'https://i.ytimg.com/vi/gr...\n",
      "7     182  {'default': {'url': 'https://i.ytimg.com/vi/Xf...\n",
      "11    332  {'default': {'url': 'https://i.ytimg.com/vi/k_...\n",
      "3     279  {'default': {'url': 'https://i.ytimg.com/vi/q3...\n",
      "17    392  {'default': {'url': 'https://i.ytimg.com/vi/uB...\n",
      "16    197  {'default': {'url': 'https://i.ytimg.com/vi/v2...\n"
     ]
    }
   ],
   "source": [
    "print(Ssoyoung_select)"
   ]
  },
  {
   "cell_type": "code",
   "execution_count": 35,
   "metadata": {},
   "outputs": [
    {
     "name": "stdout",
     "output_type": "stream",
     "text": [
      "    index                                         thumbnails\n",
      "4     316  {'default': {'url': 'https://i.ytimg.com/vi/8q...\n",
      "17    838  {'default': {'url': 'https://i.ytimg.com/vi/mv...\n",
      "0     812  {'default': {'url': 'https://i.ytimg.com/vi/Tn...\n",
      "5     650  {'default': {'url': 'https://i.ytimg.com/vi/n7...\n",
      "15    686  {'default': {'url': 'https://i.ytimg.com/vi/If...\n",
      "13    596  {'default': {'url': 'https://i.ytimg.com/vi/OH...\n",
      "9     328  {'default': {'url': 'https://i.ytimg.com/vi/1g...\n",
      "12    376  {'default': {'url': 'https://i.ytimg.com/vi/bt...\n",
      "1      98  {'default': {'url': 'https://i.ytimg.com/vi/Wf...\n",
      "10    214  {'default': {'url': 'https://i.ytimg.com/vi/XU...\n",
      "19    188  {'default': {'url': 'https://i.ytimg.com/vi/Ag...\n",
      "18    788  {'default': {'url': 'https://i.ytimg.com/vi/6y...\n",
      "6     252  {'default': {'url': 'https://i.ytimg.com/vi/lD...\n",
      "16    348  {'default': {'url': 'https://i.ytimg.com/vi/Lh...\n",
      "8     827  {'default': {'url': 'https://i.ytimg.com/vi/Q8...\n",
      "7     290  {'default': {'url': 'https://i.ytimg.com/vi/_G...\n",
      "11    125  {'default': {'url': 'https://i.ytimg.com/vi/Ow...\n",
      "14    158  {'default': {'url': 'https://i.ytimg.com/vi/uu...\n",
      "3     360  {'default': {'url': 'https://i.ytimg.com/vi/SD...\n",
      "2     345  {'default': {'url': 'https://i.ytimg.com/vi/4u...\n"
     ]
    }
   ],
   "source": [
    "print(Sulgiyang_select)"
   ]
  },
  {
   "cell_type": "code",
   "execution_count": 36,
   "metadata": {},
   "outputs": [
    {
     "name": "stdout",
     "output_type": "stream",
     "text": [
      "    index                                         thumbnails\n",
      "5     387  {'default': {'url': 'https://i.ytimg.com/vi/St...\n",
      "4     379  {'default': {'url': 'https://i.ytimg.com/vi/Fu...\n",
      "14    718  {'default': {'url': 'https://i.ytimg.com/vi/zS...\n",
      "12    213  {'default': {'url': 'https://i.ytimg.com/vi/iG...\n",
      "7     811  {'default': {'url': 'https://i.ytimg.com/vi/yQ...\n",
      "0     824  {'default': {'url': 'https://i.ytimg.com/vi/lU...\n",
      "13    391  {'default': {'url': 'https://i.ytimg.com/vi/QD...\n",
      "16    446  {'default': {'url': 'https://i.ytimg.com/vi/19...\n",
      "1     351  {'default': {'url': 'https://i.ytimg.com/vi/sv...\n",
      "11    386  {'default': {'url': 'https://i.ytimg.com/vi/mo...\n",
      "3     366  {'default': {'url': 'https://i.ytimg.com/vi/J8...\n",
      "15    654  {'default': {'url': 'https://i.ytimg.com/vi/Rj...\n",
      "9     705  {'default': {'url': 'https://i.ytimg.com/vi/86...\n",
      "6     457  {'default': {'url': 'https://i.ytimg.com/vi/6M...\n",
      "10    584  {'default': {'url': 'https://i.ytimg.com/vi/pb...\n",
      "8     523  {'default': {'url': 'https://i.ytimg.com/vi/b5...\n",
      "17    456  {'default': {'url': 'https://i.ytimg.com/vi/-F...\n",
      "18    477  {'default': {'url': 'https://i.ytimg.com/vi/zN...\n",
      "2     273  {'default': {'url': 'https://i.ytimg.com/vi/Zd...\n",
      "19    601  {'default': {'url': 'https://i.ytimg.com/vi/89...\n"
     ]
    }
   ],
   "source": [
    "print(tanboykun_select)"
   ]
  },
  {
   "cell_type": "code",
   "execution_count": 37,
   "metadata": {},
   "outputs": [
    {
     "name": "stdout",
     "output_type": "stream",
     "text": [
      "    index                                         thumbnails\n",
      "17    258  {'default': {'url': 'https://i.ytimg.com/vi/Z-...\n",
      "5     568  {'default': {'url': 'https://i.ytimg.com/vi/fO...\n",
      "6     121  {'default': {'url': 'https://i.ytimg.com/vi/sA...\n",
      "10    733  {'default': {'url': 'https://i.ytimg.com/vi/_1...\n",
      "14    637  {'default': {'url': 'https://i.ytimg.com/vi/Ui...\n",
      "1     199  {'default': {'url': 'https://i.ytimg.com/vi/KE...\n",
      "9      96  {'default': {'url': 'https://i.ytimg.com/vi/in...\n",
      "13    401  {'default': {'url': 'https://i.ytimg.com/vi/Ig...\n",
      "2     500  {'default': {'url': 'https://i.ytimg.com/vi/fb...\n",
      "18    717  {'default': {'url': 'https://i.ytimg.com/vi/9I...\n",
      "11    474  {'default': {'url': 'https://i.ytimg.com/vi/zX...\n",
      "16    737  {'default': {'url': 'https://i.ytimg.com/vi/Ep...\n",
      "3     372  {'default': {'url': 'https://i.ytimg.com/vi/22...\n",
      "15     85  {'default': {'url': 'https://i.ytimg.com/vi/IT...\n",
      "4     425  {'default': {'url': 'https://i.ytimg.com/vi/tt...\n",
      "7     166  {'default': {'url': 'https://i.ytimg.com/vi/_1...\n",
      "12    362  {'default': {'url': 'https://i.ytimg.com/vi/ma...\n",
      "19    722  {'default': {'url': 'https://i.ytimg.com/vi/NP...\n",
      "0     822  {'default': {'url': 'https://i.ytimg.com/vi/M5...\n",
      "8     583  {'default': {'url': 'https://i.ytimg.com/vi/mK...\n"
     ]
    }
   ],
   "source": [
    "print(ZachChoi_select)"
   ]
  }
 ],
 "metadata": {
  "kernelspec": {
   "display_name": "Python 3",
   "language": "python",
   "name": "python3"
  },
  "language_info": {
   "codemirror_mode": {
    "name": "ipython",
    "version": 3
   },
   "file_extension": ".py",
   "mimetype": "text/x-python",
   "name": "python",
   "nbconvert_exporter": "python",
   "pygments_lexer": "ipython3",
   "version": "3.11.1"
  }
 },
 "nbformat": 4,
 "nbformat_minor": 2
}
