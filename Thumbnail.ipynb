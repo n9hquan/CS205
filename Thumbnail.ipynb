{
 "cells": [
  {
   "cell_type": "code",
   "execution_count": 14,
   "metadata": {},
   "outputs": [],
   "source": [
    "import pandas as pd\n",
    "import random\n",
    "import statistics as st\n",
    "import matplotlib.pyplot as plt\n",
    "import random"
   ]
  },
  {
   "cell_type": "code",
   "execution_count": 15,
   "metadata": {},
   "outputs": [],
   "source": [
    "Boki = pd.read_excel(r\"D:\\Fulbright\\Year2\\CSM\\Eat with Boki.xlsx\")\n",
    "Gongsam = pd.read_excel(r\"D:\\Fulbright\\Year2\\CSM\\Gongsam table.xlsx\")\n",
    "Hamzy = pd.read_excel(r\"D:\\Fulbright\\Year2\\CSM\\Hamzy.xlsx\")\n",
    "Hongyu = pd.read_excel(r\"D:\\Fulbright\\Year2\\CSM\\Hongyu ASMR.xlsx\")\n",
    "Jane = pd.read_excel(r\"D:\\Fulbright\\Year2\\CSM\\Jane_asmr.xlsx\")\n",
    "SASASMR = pd.read_excel(r\"D:\\Fulbright\\Year2\\CSM\\SASASMR.xlsx\")\n",
    "Ssoyoung = pd.read_excel(r\"D:\\Fulbright\\Year2\\CSM\\Ssoyoung.xlsx\")\n",
    "Sulgiyang = pd.read_excel(r\"D:\\Fulbright\\Year2\\CSM\\Sulgiyang.xlsx\")\n",
    "tanboykun = pd.read_excel(r\"D:\\Fulbright\\Year2\\CSM\\tanboykun.xlsx\")\n",
    "ZachChoi = pd.read_excel(r\"D:\\Fulbright\\Year2\\CSM\\Zach Choi.xlsx\")\n"
   ]
  },
  {
   "cell_type": "code",
   "execution_count": 16,
   "metadata": {},
   "outputs": [],
   "source": [
    "Boki_select = Boki[['index', 'thumbnails']].sample(frac = 1)\n",
    "Gongsam_select = Gongsam[['index', 'thumbnails']].sample(frac = 1)\n",
    "Hamzy_select = Hamzy[['index', 'thumbnails']].sample(frac = 1)\n",
    "Hongyu_select = Hongyu[['index', 'thumbnails']].sample(frac = 1)\n",
    "Jane_select = Jane[['index', 'thumbnails']].sample(frac = 1)\n",
    "SASASMR_select = SASASMR[['index', 'thumbnails']].sample(frac = 1)\n",
    "Ssoyoung_select = Ssoyoung[['index', 'thumbnails']].sample(frac = 1)\n",
    "Sulgiyang_select = Sulgiyang[['index', 'thumbnails']].sample(frac = 1)\n",
    "tanboykun_select = tanboykun[['index', 'thumbnails']].sample(frac = 1)\n",
    "ZachChoi_select = ZachChoi[['index', 'thumbnails']].sample(frac = 1)"
   ]
  },
  {
   "cell_type": "markdown",
   "metadata": {},
   "source": [
    "**NOTE: 20 videos from each channel below have been randomly shuffled, we just need to pick 2 in order for each channel for the survey**"
   ]
  },
  {
   "cell_type": "code",
   "execution_count": 17,
   "metadata": {},
   "outputs": [
    {
     "name": "stdout",
     "output_type": "stream",
     "text": [
      "    index                                         thumbnails\n",
      "2      25  {'default': {'url': 'https://i.ytimg.com/vi/mD...\n",
      "8     356  {'default': {'url': 'https://i.ytimg.com/vi/L9...\n",
      "16    594  {'default': {'url': 'https://i.ytimg.com/vi/lE...\n",
      "17    644  {'default': {'url': 'https://i.ytimg.com/vi/QA...\n",
      "6     360  {'default': {'url': 'https://i.ytimg.com/vi/SD...\n",
      "7     706  {'default': {'url': 'https://i.ytimg.com/vi/Yr...\n",
      "3     498  {'default': {'url': 'https://i.ytimg.com/vi/vx...\n",
      "9     105  {'default': {'url': 'https://i.ytimg.com/vi/B1...\n",
      "0     650  {'default': {'url': 'https://i.ytimg.com/vi/n7...\n",
      "13    179  {'default': {'url': 'https://i.ytimg.com/vi/WE...\n",
      "15    441  {'default': {'url': 'https://i.ytimg.com/vi/mb...\n",
      "11    357  {'default': {'url': 'https://i.ytimg.com/vi/MR...\n",
      "14    478  {'default': {'url': 'https://i.ytimg.com/vi/s0...\n",
      "4     297  {'default': {'url': 'https://i.ytimg.com/vi/hx...\n",
      "10    778  {'default': {'url': 'https://i.ytimg.com/vi/iH...\n",
      "18    154  {'default': {'url': 'https://i.ytimg.com/vi/MD...\n",
      "1     156  {'default': {'url': 'https://i.ytimg.com/vi/eI...\n",
      "12    517  {'default': {'url': 'https://i.ytimg.com/vi/Ha...\n",
      "5     638  {'default': {'url': 'https://i.ytimg.com/vi/qL...\n",
      "19    419  {'default': {'url': 'https://i.ytimg.com/vi/KL...\n"
     ]
    }
   ],
   "source": [
    "print(Boki_select)"
   ]
  },
  {
   "cell_type": "code",
   "execution_count": 18,
   "metadata": {},
   "outputs": [
    {
     "name": "stdout",
     "output_type": "stream",
     "text": [
      "    index                                         thumbnails\n",
      "18    178  {'default': {'url': 'https://i.ytimg.com/vi/mT...\n",
      "5     892  {'default': {'url': 'https://i.ytimg.com/vi/1k...\n",
      "12    302  {'default': {'url': 'https://i.ytimg.com/vi/Wb...\n",
      "4     448  {'default': {'url': 'https://i.ytimg.com/vi/zy...\n",
      "0      30  {'default': {'url': 'https://i.ytimg.com/vi/lM...\n",
      "13    256  {'default': {'url': 'https://i.ytimg.com/vi/Dm...\n",
      "6     928  {'default': {'url': 'https://i.ytimg.com/vi/Wv...\n",
      "17    620  {'default': {'url': 'https://i.ytimg.com/vi/lt...\n",
      "2     355  {'default': {'url': 'https://i.ytimg.com/vi/yH...\n",
      "3     563  {'default': {'url': 'https://i.ytimg.com/vi/D_...\n",
      "1     655  {'default': {'url': 'https://i.ytimg.com/vi/JH...\n",
      "16    272  {'default': {'url': 'https://i.ytimg.com/vi/J6...\n",
      "11     36  {'default': {'url': 'https://i.ytimg.com/vi/YI...\n",
      "9     897  {'default': {'url': 'https://i.ytimg.com/vi/v4...\n",
      "8     827  {'default': {'url': 'https://i.ytimg.com/vi/lR...\n",
      "7     270  {'default': {'url': 'https://i.ytimg.com/vi/I6...\n",
      "15    480  {'default': {'url': 'https://i.ytimg.com/vi/oD...\n",
      "14    424  {'default': {'url': 'https://i.ytimg.com/vi/vT...\n",
      "10    863  {'default': {'url': 'https://i.ytimg.com/vi/48...\n",
      "19    175  {'default': {'url': 'https://i.ytimg.com/vi/7y...\n"
     ]
    }
   ],
   "source": [
    "print(Gongsam_select)"
   ]
  },
  {
   "cell_type": "code",
   "execution_count": 19,
   "metadata": {},
   "outputs": [
    {
     "name": "stdout",
     "output_type": "stream",
     "text": [
      "    index                                         thumbnails\n",
      "9     168  {'default': {'url': 'https://i.ytimg.com/vi/DX...\n",
      "19    477  {'default': {'url': 'https://i.ytimg.com/vi/Vy...\n",
      "7     470  {'default': {'url': 'https://i.ytimg.com/vi/Vv...\n",
      "13    569  {'default': {'url': 'https://i.ytimg.com/vi/aN...\n",
      "11    706  {'default': {'url': 'https://i.ytimg.com/vi/fC...\n",
      "17    101  {'default': {'url': 'https://i.ytimg.com/vi/0A...\n",
      "10    259  {'default': {'url': 'https://i.ytimg.com/vi/dP...\n",
      "3     356  {'default': {'url': 'https://i.ytimg.com/vi/-x...\n",
      "8     119  {'default': {'url': 'https://i.ytimg.com/vi/Dj...\n",
      "6     332  {'default': {'url': 'https://i.ytimg.com/vi/rn...\n",
      "1     250  {'default': {'url': 'https://i.ytimg.com/vi/bM...\n",
      "18    376  {'default': {'url': 'https://i.ytimg.com/vi/fL...\n",
      "16    509  {'default': {'url': 'https://i.ytimg.com/vi/B4...\n",
      "12    542  {'default': {'url': 'https://i.ytimg.com/vi/9q...\n",
      "0     639  {'default': {'url': 'https://i.ytimg.com/vi/Sr...\n",
      "15    537  {'default': {'url': 'https://i.ytimg.com/vi/Dr...\n",
      "5     593  {'default': {'url': 'https://i.ytimg.com/vi/xW...\n",
      "2     341  {'default': {'url': 'https://i.ytimg.com/vi/ZC...\n",
      "14    288  {'default': {'url': 'https://i.ytimg.com/vi/ky...\n",
      "4     371  {'default': {'url': 'https://i.ytimg.com/vi/79...\n"
     ]
    }
   ],
   "source": [
    "print(Hamzy_select)"
   ]
  },
  {
   "cell_type": "code",
   "execution_count": 20,
   "metadata": {},
   "outputs": [
    {
     "name": "stdout",
     "output_type": "stream",
     "text": [
      "    index                                         thumbnails\n",
      "10    371  {'default': {'url': 'https://i.ytimg.com/vi/1a...\n",
      "18    436  {'default': {'url': 'https://i.ytimg.com/vi/mE...\n",
      "3     299  {'default': {'url': 'https://i.ytimg.com/vi/Og...\n",
      "9     522  {'default': {'url': 'https://i.ytimg.com/vi/S2...\n",
      "8     181  {'default': {'url': 'https://i.ytimg.com/vi/Ej...\n",
      "17    391  {'default': {'url': 'https://i.ytimg.com/vi/_f...\n",
      "2     365  {'default': {'url': 'https://i.ytimg.com/vi/Bp...\n",
      "7     336  {'default': {'url': 'https://i.ytimg.com/vi/nQ...\n",
      "12    589  {'default': {'url': 'https://i.ytimg.com/vi/Ws...\n",
      "4     503  {'default': {'url': 'https://i.ytimg.com/vi/Mk...\n",
      "6     636  {'default': {'url': 'https://i.ytimg.com/vi/rJ...\n",
      "11    404  {'default': {'url': 'https://i.ytimg.com/vi/Ur...\n",
      "14    626  {'default': {'url': 'https://i.ytimg.com/vi/tJ...\n",
      "15    505  {'default': {'url': 'https://i.ytimg.com/vi/9V...\n",
      "19    529  {'default': {'url': 'https://i.ytimg.com/vi/Ls...\n",
      "5     297  {'default': {'url': 'https://i.ytimg.com/vi/Wa...\n",
      "0     735  {'default': {'url': 'https://i.ytimg.com/vi/OI...\n",
      "13    188  {'default': {'url': 'https://i.ytimg.com/vi/XP...\n",
      "16    254  {'default': {'url': 'https://i.ytimg.com/vi/sV...\n",
      "1      32  {'default': {'url': 'https://i.ytimg.com/vi/IF...\n"
     ]
    }
   ],
   "source": [
    "print(Hongyu_select)"
   ]
  },
  {
   "cell_type": "code",
   "execution_count": 21,
   "metadata": {},
   "outputs": [
    {
     "name": "stdout",
     "output_type": "stream",
     "text": [
      "    index                                         thumbnails\n",
      "9    1778  {'default': {'url': 'https://i.ytimg.com/vi/B5...\n",
      "12    291  {'default': {'url': 'https://i.ytimg.com/vi/qe...\n",
      "13   1668  {'default': {'url': 'https://i.ytimg.com/vi/w7...\n",
      "0    1336  {'default': {'url': 'https://i.ytimg.com/vi/W6...\n",
      "18   2025  {'default': {'url': 'https://i.ytimg.com/vi/8M...\n",
      "15    298  {'default': {'url': 'https://i.ytimg.com/vi/hA...\n",
      "5     477  {'default': {'url': 'https://i.ytimg.com/vi/YD...\n",
      "3     827  {'default': {'url': 'https://i.ytimg.com/vi/RN...\n",
      "16    453  {'default': {'url': 'https://i.ytimg.com/vi/yR...\n",
      "11     28  {'default': {'url': 'https://i.ytimg.com/vi/9H...\n",
      "2    1557  {'default': {'url': 'https://i.ytimg.com/vi/vj...\n",
      "4    1170  {'default': {'url': 'https://i.ytimg.com/vi/KH...\n",
      "8    1454  {'default': {'url': 'https://i.ytimg.com/vi/JH...\n",
      "10   1058  {'default': {'url': 'https://i.ytimg.com/vi/e7...\n",
      "17    607  {'default': {'url': 'https://i.ytimg.com/vi/Kr...\n",
      "6     138  {'default': {'url': 'https://i.ytimg.com/vi/m9...\n",
      "19   1302  {'default': {'url': 'https://i.ytimg.com/vi/uq...\n",
      "14    562  {'default': {'url': 'https://i.ytimg.com/vi/n9...\n",
      "1     140  {'default': {'url': 'https://i.ytimg.com/vi/Vi...\n",
      "7     156  {'default': {'url': 'https://i.ytimg.com/vi/-D...\n"
     ]
    }
   ],
   "source": [
    "print(Jane_select)"
   ]
  },
  {
   "cell_type": "code",
   "execution_count": 22,
   "metadata": {},
   "outputs": [
    {
     "name": "stdout",
     "output_type": "stream",
     "text": [
      "    index                                         thumbnails\n",
      "1     718  {'default': {'url': 'https://i.ytimg.com/vi/wA...\n",
      "13    549  {'default': {'url': 'https://i.ytimg.com/vi/JN...\n",
      "9    1156  {'default': {'url': 'https://i.ytimg.com/vi/KA...\n",
      "18   2064  {'default': {'url': 'https://i.ytimg.com/vi/Px...\n",
      "12   1386  {'default': {'url': 'https://i.ytimg.com/vi/VC...\n",
      "0    1191  {'default': {'url': 'https://i.ytimg.com/vi/m5...\n",
      "10    790  {'default': {'url': 'https://i.ytimg.com/vi/DP...\n",
      "15    844  {'default': {'url': 'https://i.ytimg.com/vi/OJ...\n",
      "6    1210  {'default': {'url': 'https://i.ytimg.com/vi/jQ...\n",
      "2     413  {'default': {'url': 'https://i.ytimg.com/vi/Ko...\n",
      "17     78  {'default': {'url': 'https://i.ytimg.com/vi/l8...\n",
      "4    1951  {'default': {'url': 'https://i.ytimg.com/vi/rQ...\n",
      "16    147  {'default': {'url': 'https://i.ytimg.com/vi/Nw...\n",
      "14   1831  {'default': {'url': 'https://i.ytimg.com/vi/fi...\n",
      "19   1562  {'default': {'url': 'https://i.ytimg.com/vi/L3...\n",
      "3    1363  {'default': {'url': 'https://i.ytimg.com/vi/Tb...\n",
      "5     689  {'default': {'url': 'https://i.ytimg.com/vi/Wl...\n",
      "11   1913  {'default': {'url': 'https://i.ytimg.com/vi/4E...\n",
      "7     615  {'default': {'url': 'https://i.ytimg.com/vi/FN...\n",
      "8      54  {'default': {'url': 'https://i.ytimg.com/vi/im...\n"
     ]
    }
   ],
   "source": [
    "print(SASASMR_select)"
   ]
  },
  {
   "cell_type": "code",
   "execution_count": 23,
   "metadata": {},
   "outputs": [
    {
     "name": "stdout",
     "output_type": "stream",
     "text": [
      "    index                                         thumbnails\n",
      "17    453  {'default': {'url': 'https://i.ytimg.com/vi/fF...\n",
      "3     552  {'default': {'url': 'https://i.ytimg.com/vi/Zw...\n",
      "15    147  {'default': {'url': 'https://i.ytimg.com/vi/n1...\n",
      "6      74  {'default': {'url': 'https://i.ytimg.com/vi/fn...\n",
      "13     26  {'default': {'url': 'https://i.ytimg.com/vi/_q...\n",
      "10    764  {'default': {'url': 'https://i.ytimg.com/vi/x2...\n",
      "0      31  {'default': {'url': 'https://i.ytimg.com/vi/8O...\n",
      "5     132  {'default': {'url': 'https://i.ytimg.com/vi/0J...\n",
      "12    501  {'default': {'url': 'https://i.ytimg.com/vi/ot...\n",
      "14    598  {'default': {'url': 'https://i.ytimg.com/vi/WD...\n",
      "19    526  {'default': {'url': 'https://i.ytimg.com/vi/a8...\n",
      "16    964  {'default': {'url': 'https://i.ytimg.com/vi/hl...\n",
      "1     870  {'default': {'url': 'https://i.ytimg.com/vi/dw...\n",
      "18    273  {'default': {'url': 'https://i.ytimg.com/vi/ZE...\n",
      "11    516  {'default': {'url': 'https://i.ytimg.com/vi/RQ...\n",
      "2     452  {'default': {'url': 'https://i.ytimg.com/vi/Ca...\n",
      "9     373  {'default': {'url': 'https://i.ytimg.com/vi/mD...\n",
      "8     158  {'default': {'url': 'https://i.ytimg.com/vi/s2...\n",
      "7     269  {'default': {'url': 'https://i.ytimg.com/vi/25...\n",
      "4     326  {'default': {'url': 'https://i.ytimg.com/vi/7-...\n"
     ]
    }
   ],
   "source": [
    "print(Ssoyoung_select)"
   ]
  },
  {
   "cell_type": "code",
   "execution_count": 24,
   "metadata": {},
   "outputs": [
    {
     "name": "stdout",
     "output_type": "stream",
     "text": [
      "    index                                         thumbnails\n",
      "3     778  {'default': {'url': 'https://i.ytimg.com/vi/ZT...\n",
      "18    265  {'default': {'url': 'https://i.ytimg.com/vi/60...\n",
      "9     650  {'default': {'url': 'https://i.ytimg.com/vi/7e...\n",
      "11     61  {'default': {'url': 'https://i.ytimg.com/vi/Bg...\n",
      "6     651  {'default': {'url': 'https://i.ytimg.com/vi/nu...\n",
      "19    203  {'default': {'url': 'https://i.ytimg.com/vi/7_...\n",
      "10    341  {'default': {'url': 'https://i.ytimg.com/vi/cJ...\n",
      "12    767  {'default': {'url': 'https://i.ytimg.com/vi/qE...\n",
      "1     676  {'default': {'url': 'https://i.ytimg.com/vi/HN...\n",
      "2     679  {'default': {'url': 'https://i.ytimg.com/vi/CK...\n",
      "17    710  {'default': {'url': 'https://i.ytimg.com/vi/vT...\n",
      "15    188  {'default': {'url': 'https://i.ytimg.com/vi/ZT...\n",
      "7     499  {'default': {'url': 'https://i.ytimg.com/vi/rD...\n",
      "4      50  {'default': {'url': 'https://i.ytimg.com/vi/V5...\n",
      "16    100  {'default': {'url': 'https://i.ytimg.com/vi/UB...\n",
      "8     726  {'default': {'url': 'https://i.ytimg.com/vi/bb...\n",
      "0     333  {'default': {'url': 'https://i.ytimg.com/vi/bv...\n",
      "14    672  {'default': {'url': 'https://i.ytimg.com/vi/v4...\n",
      "5     641  {'default': {'url': 'https://i.ytimg.com/vi/M7...\n",
      "13    174  {'default': {'url': 'https://i.ytimg.com/vi/Wg...\n"
     ]
    }
   ],
   "source": [
    "print(Sulgiyang_select)"
   ]
  },
  {
   "cell_type": "code",
   "execution_count": 25,
   "metadata": {},
   "outputs": [
    {
     "name": "stdout",
     "output_type": "stream",
     "text": [
      "    index                                         thumbnails\n",
      "6     463  {'default': {'url': 'https://i.ytimg.com/vi/Yu...\n",
      "19    837  {'default': {'url': 'https://i.ytimg.com/vi/ZP...\n",
      "9     558  {'default': {'url': 'https://i.ytimg.com/vi/XN...\n",
      "11    552  {'default': {'url': 'https://i.ytimg.com/vi/Vs...\n",
      "0     496  {'default': {'url': 'https://i.ytimg.com/vi/uW...\n",
      "5     772  {'default': {'url': 'https://i.ytimg.com/vi/P3...\n",
      "12    641  {'default': {'url': 'https://i.ytimg.com/vi/ej...\n",
      "2     295  {'default': {'url': 'https://i.ytimg.com/vi/b0...\n",
      "18     98  {'default': {'url': 'https://i.ytimg.com/vi/K_...\n",
      "16    492  {'default': {'url': 'https://i.ytimg.com/vi/4z...\n",
      "1     573  {'default': {'url': 'https://i.ytimg.com/vi/ZJ...\n",
      "8      79  {'default': {'url': 'https://i.ytimg.com/vi/s9...\n",
      "3     728  {'default': {'url': 'https://i.ytimg.com/vi/sI...\n",
      "14    668  {'default': {'url': 'https://i.ytimg.com/vi/3c...\n",
      "7     401  {'default': {'url': 'https://i.ytimg.com/vi/rT...\n",
      "15    262  {'default': {'url': 'https://i.ytimg.com/vi/Ni...\n",
      "4     316  {'default': {'url': 'https://i.ytimg.com/vi/2Y...\n",
      "13     82  {'default': {'url': 'https://i.ytimg.com/vi/AB...\n",
      "17    388  {'default': {'url': 'https://i.ytimg.com/vi/xA...\n",
      "10    809  {'default': {'url': 'https://i.ytimg.com/vi/7H...\n"
     ]
    }
   ],
   "source": [
    "print(tanboykun_select)"
   ]
  },
  {
   "cell_type": "code",
   "execution_count": 26,
   "metadata": {},
   "outputs": [
    {
     "name": "stdout",
     "output_type": "stream",
     "text": [
      "    index                                         thumbnails\n",
      "1     678  {'default': {'url': 'https://i.ytimg.com/vi/1P...\n",
      "19    118  {'default': {'url': 'https://i.ytimg.com/vi/-6...\n",
      "9    1121  {'default': {'url': 'https://i.ytimg.com/vi/Dl...\n",
      "3     963  {'default': {'url': 'https://i.ytimg.com/vi/kL...\n",
      "10    924  {'default': {'url': 'https://i.ytimg.com/vi/pg...\n",
      "14    588  {'default': {'url': 'https://i.ytimg.com/vi/nk...\n",
      "2     570  {'default': {'url': 'https://i.ytimg.com/vi/pS...\n",
      "17    947  {'default': {'url': 'https://i.ytimg.com/vi/nM...\n",
      "5     452  {'default': {'url': 'https://i.ytimg.com/vi/vD...\n",
      "8     781  {'default': {'url': 'https://i.ytimg.com/vi/EE...\n",
      "15    788  {'default': {'url': 'https://i.ytimg.com/vi/GT...\n",
      "18    153  {'default': {'url': 'https://i.ytimg.com/vi/h_...\n",
      "11    634  {'default': {'url': 'https://i.ytimg.com/vi/tS...\n",
      "16    938  {'default': {'url': 'https://i.ytimg.com/vi/VA...\n",
      "12    249  {'default': {'url': 'https://i.ytimg.com/vi/9_...\n",
      "4     250  {'default': {'url': 'https://i.ytimg.com/vi/Jc...\n",
      "6     635  {'default': {'url': 'https://i.ytimg.com/vi/iC...\n",
      "13    697  {'default': {'url': 'https://i.ytimg.com/vi/Bn...\n",
      "7     374  {'default': {'url': 'https://i.ytimg.com/vi/1M...\n",
      "0     486  {'default': {'url': 'https://i.ytimg.com/vi/L7...\n"
     ]
    }
   ],
   "source": [
    "print(ZachChoi_select)"
   ]
  }
 ],
 "metadata": {
  "kernelspec": {
   "display_name": "Python 3",
   "language": "python",
   "name": "python3"
  },
  "language_info": {
   "codemirror_mode": {
    "name": "ipython",
    "version": 3
   },
   "file_extension": ".py",
   "mimetype": "text/x-python",
   "name": "python",
   "nbconvert_exporter": "python",
   "pygments_lexer": "ipython3",
   "version": "3.11.1"
  }
 },
 "nbformat": 4,
 "nbformat_minor": 2
}
